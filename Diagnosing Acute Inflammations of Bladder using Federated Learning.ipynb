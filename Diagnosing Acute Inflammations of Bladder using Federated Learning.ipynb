{
 "cells": [
  {
   "cell_type": "markdown",
   "metadata": {},
   "source": [
    "# Diagnosing Acute Inflammations of Bladder using Federated Learning\n",
    "\n",
    "## Abstract\n",
    "\n",
    "This machine learning system can diagnose 2 acute inflammations of bladder. The medical dataset contains features and diagnoses of 2 diseases of the urinary system: **Inflammation of urinary bladder** and **nephritis of renal pelvis origin**. This medical dataset truly needs privacy! Because we cannot divulge the sexually-transmitted diseases of patients. Federated learning will protect the privacy of datasets in each hospital and at the same time, a more robust machine learning model will benefit all hospitals. Why? Because the machine learning model generated in this project is 100% accurate; whereas human doctors can commit mistakes when diagnosing these 2 diseases. This machine learning system will leverage the advantage of distributed computing, whereby model will be sent to different computing systems (hospitals), it will be trained locally using the private data, and only the weights will be sent back to the central server in order to perform the learning. Hence, in this project, we will be simulating the distributed computing environment, which is in accordance with syllabus of our course on \"Distributed and Cloud Computing\". \n",
    "\n",
    "## DATASET\n",
    "\n",
    "**Acute Inflammations Data Set <br/>\n",
    "https://archive.ics.uci.edu/ml/datasets/Acute+Inflammations**\n",
    "\n",
    "<p align=\"center\">\n",
    " <img src=\"./images/bladder.jpg\" title=\"Bladder\">\n",
    "</p>\n",
    "\n",
    "Data Set Characteristics:  Multivariate<br/>\n",
    "Attribute Characteristics: Categorical, Integer<br/>\n",
    "Associated Tasks: Classification<br/>\n",
    "Number of Instances: 120<br/>\n",
    "Number of Attributes: 6<br/>\n",
    "Number of Diagnoses: 2<br/>\n",
    "Missing Values? No<br/>\n",
    "Area: Life<br/>\n",
    "Date Donated: 2009-02-11<br/>\n",
    "\n",
    "## Source:\n",
    "\n",
    "Jacek Czerniak, Ph.D., Assistant Professor<br/>\n",
    "Systems Research Institute<br/>\n",
    "Polish Academy of Sciences<br/>\n",
    "Laboratory of Intelligent Systems<br/>\n",
    "ul. Newelska 6, Room 218<br/>\n",
    "01-447 Warszawa, Poland<br/>\n",
    "e-mail: jacek.czerniak@ibspan.waw.pl or jczerniak@ukw.edu.pl <br/>\n",
    "\n",
    "## Data Set Information:\n",
    "\n",
    "The main idea of this data set is to prepare the algorithm of the expert  system, which will perform the presumptive diagnosis of two diseases of  urinary system. It will be the example of diagnosing of the acute inflammations of urinary bladder and acute nephritises. For better understanding of the problem, let us consider definitions of both diseases given by medics. \n",
    "\n",
    "**Acute inflammation of urinary bladder** is characterised by sudden occurrence of pains in the abdomen region and \n",
    "the urination in form of constant urine pushing, micturition pains and  sometimes lack of urine keeping. Temperature of the body is rising, however most often not above 38C. The excreted urine is turbid and sometimes bloody. At proper treatment, symptoms decay usually within several days. However, there is inclination to returns. At persons with acute inflammation of urinary bladder, we should expect that the illness will turn into protracted form.\n",
    "\n",
    "**Acute nephritis of renal pelvis origin** occurs considerably more often at women than at men. It begins with sudden fever, which reaches, and sometimes exceeds 40C. The fever is accompanied by shivers and one- or \n",
    "both-side lumbar pains, which are sometimes very strong. Symptoms of acute inflammation of urinary bladder appear very often. Quite not infrequently there are nausea and vomiting and spread pains of whole abdomen.\n",
    "\n",
    "The data was created by a medical expert as a data set to test the expert system, which will perform the presumptive diagnosis of two diseases of urinary system. Each instance (each line of the text file) represents an potential patient. The data is in an ASCII file. Attributes are separated by TAB. Each line of the data file starts with a digit which tells the temperature of patient.\n",
    "\n",
    "## Attribute Example:\n",
    "\n",
    "For example, '35,9 no no yes yes yes yes no'<br/>\n",
    "<br/>\n",
    "Where there are 6 features and 2 diagnoses (8 columns):<br/>\n",
    "<br/>\n",
    "**'35,9'** Temperature of patient<br/>\n",
    "**'no'** Occurrence of nausea<br/>\n",
    "**'no'** Lumbar pain<br/>\n",
    "**'yes'** Urine pushing (continuous need for urination)<br/>\n",
    "**'yes'** Micturition pains<br/>\n",
    "**'yes'** Burning of urethra, itch, swelling of urethra outlet<br/>\n",
    "<br/>\n",
    "**'yes'** decision: Inflammation of urinary bladder<br/>\n",
    "**'no'** decision: Nephritis of renal pelvis origin<br/>\n",
    "\n",
    "## Attribute Information:\n",
    "\n",
    "There are 6 features and 2 diagnoses (8 columns):\n",
    "\n",
    "**a1** Temperature of patient { 35C-42C }<br/>\n",
    "**a2** Occurrence of nausea { yes, no }<br/>\n",
    "**a3** Lumbar pain { yes, no }<br/>\n",
    "**a4** Urine pushing (continuous need for urination) { yes, no }<br/>\n",
    "**a5** Micturition pains { yes, no }<br/>\n",
    "**a6** Burning of urethra, itch, swelling of urethra outlet { yes, no }<br/>\n",
    "<br/>\n",
    "**d1** decision: Inflammation of urinary bladder { yes, no }<br/>\n",
    "**d2** decision: Nephritis of renal pelvis origin { yes, no } <br/>\n",
    "\n",
    "## Relevant Paper:\n",
    "\n",
    "J.Czerniak, H.Zarzycki, Application of rough sets in the presumptive \n",
    "diagnosis of urinary system diseases, Artifical Inteligence and Security \n",
    "in Computing Systems, ACS'2002 9th International Conference Proceedings, \n",
    "Kluwer Academic Publishers,2003, pp. 41-51"
   ]
  },
  {
   "cell_type": "markdown",
   "metadata": {},
   "source": [
    "# So, let's code it out!\n",
    "\n",
    "First, we need some functions to download the dataset, to read the dataset text file, and to parse the lines and fields of the dataset:"
   ]
  },
  {
   "cell_type": "code",
   "execution_count": 1,
   "metadata": {},
   "outputs": [],
   "source": [
    "import urllib.request\n",
    "\n",
    "def download_url(url, save_as):\n",
    "    response = urllib.request.urlopen(url)\n",
    "    data = response.read()\n",
    "    file = open(save_as, 'wb')\n",
    "    file.write(data)\n",
    "    file.close()\n",
    "    response.close()\n",
    "    \n",
    "def read_binary_file(file):\n",
    "    f = open(file,'rb')\n",
    "    block = f.read()\n",
    "    return block.decode('utf-16')\n",
    "\n",
    "def split_text_in_lines(text):\n",
    "    return text.split('\\r\\n')\n",
    "\n",
    "def split_by_tabs(line):\n",
    "    return line.split('\\t')"
   ]
  },
  {
   "cell_type": "markdown",
   "metadata": {},
   "source": [
    "Then, we download the 2 files related to this dataset: diagnosis.names and diagnosis.data."
   ]
  },
  {
   "cell_type": "code",
   "execution_count": 2,
   "metadata": {},
   "outputs": [],
   "source": [
    "names_link = 'https://archive.ics.uci.edu/ml/machine-learning-databases/acute/diagnosis.names'\n",
    "data_link = 'https://archive.ics.uci.edu/ml/machine-learning-databases/acute/diagnosis.data'\n",
    "diagnosis_names = 'diagnosis.names'\n",
    "diagnosis_data = 'diagnosis.data'\n",
    "download_url(names_link, diagnosis_names)\n",
    "download_url(data_link, diagnosis_data)"
   ]
  },
  {
   "cell_type": "markdown",
   "metadata": {},
   "source": [
    "We define some functions to parse the lines and fields of this dataset:"
   ]
  },
  {
   "cell_type": "code",
   "execution_count": 3,
   "metadata": {},
   "outputs": [],
   "source": [
    "import numpy as np\n",
    "\n",
    "def parse_double(field):\n",
    "    field = field.replace(',', '.')\n",
    "    return float(field)\n",
    "\n",
    "def parse_boolean(field):\n",
    "    return 1. if field == 'yes' else 0.\n",
    "\n",
    "def read_np_array(file = diagnosis_data):\n",
    "    text = read_binary_file(file)\n",
    "    lines = split_text_in_lines(text)\n",
    "    rows = []\n",
    "    for line in lines:\n",
    "        if line == '': continue\n",
    "        line = line.replace('\\r\\n', '')\n",
    "        fields = split_by_tabs(line)\n",
    "        row = []\n",
    "        j = 0\n",
    "        for field in fields:\n",
    "            value = parse_double(field) if j == 0 else parse_boolean(field)\n",
    "            row.append(value)\n",
    "            j += 1\n",
    "        rows.append(row)\n",
    "    matrix = np.array(rows, dtype = np.float32)\n",
    "    return matrix"
   ]
  },
  {
   "cell_type": "markdown",
   "metadata": {},
   "source": [
    "We define some functions in order to randomly split this dataset in 2: Training dataset (96 samples) and testing dataset (24 samples)."
   ]
  },
  {
   "cell_type": "code",
   "execution_count": 4,
   "metadata": {},
   "outputs": [],
   "source": [
    "def get_random_indexes(n):\n",
    "    indexes = list(range(n))\n",
    "    random_indexes = []\n",
    "    for i in range(n):\n",
    "        r = np.random.randint(len(indexes))\n",
    "        random_indexes.append(indexes.pop(r))\n",
    "    return random_indexes\n",
    "\n",
    "def get_indexes_for_2_datasets(n, training = 80):\n",
    "    indexes = get_random_indexes(n)\n",
    "    train = int(training / 100. * n)\n",
    "    return indexes[:train], indexes[train:]\n",
    "\n",
    "matrix = read_np_array()\n",
    "n_samples, n_dimensions = matrix.shape\n",
    "\n",
    "train_indexes, test_indexes = get_indexes_for_2_datasets(n_samples)\n",
    "train_data = matrix[train_indexes]\n",
    "test_data = matrix[test_indexes]\n",
    "\n",
    "def print_dataset(name, data):\n",
    "    print('Dataset {}. Shape: {}'.format(name, data.shape))\n",
    "    print(data)"
   ]
  },
  {
   "cell_type": "markdown",
   "metadata": {},
   "source": [
    "We print the training dataset. It has 96 samples (96 rows), and 6 features and 2 diagnoses (8 columns).\n",
    "\n",
    "As we can see, the temperature is parsed into a real number. And the boolean values (yes or no) are parsed into real numbers as well: 1. and 0., respectively. "
   ]
  },
  {
   "cell_type": "code",
   "execution_count": 5,
   "metadata": {},
   "outputs": [
    {
     "name": "stdout",
     "output_type": "stream",
     "text": [
      "Dataset Train. Shape: (96, 8)\n",
      "[[35.5  0.   1.   0.   0.   0.   0.   0. ]\n",
      " [37.8  0.   0.   1.   1.   1.   1.   0. ]\n",
      " [40.5  1.   1.   1.   1.   0.   1.   1. ]\n",
      " [37.8  0.   1.   0.   0.   0.   0.   0. ]\n",
      " [40.4  0.   0.   0.   0.   0.   0.   0. ]\n",
      " [36.   0.   1.   0.   0.   0.   0.   0. ]\n",
      " [39.4  0.   1.   1.   0.   1.   0.   1. ]\n",
      " [36.8  0.   0.   1.   1.   1.   1.   0. ]\n",
      " [36.6  0.   0.   1.   1.   1.   1.   0. ]\n",
      " [40.7  0.   1.   1.   0.   1.   0.   1. ]\n",
      " [41.1  1.   1.   1.   1.   0.   1.   1. ]\n",
      " [40.6  1.   1.   1.   1.   1.   1.   1. ]\n",
      " [40.   1.   1.   1.   1.   1.   1.   1. ]\n",
      " [41.5  0.   0.   0.   0.   0.   0.   0. ]\n",
      " [37.6  0.   0.   1.   1.   0.   1.   0. ]\n",
      " [36.9  0.   1.   0.   0.   0.   0.   0. ]\n",
      " [40.2  1.   1.   0.   1.   0.   0.   1. ]\n",
      " [36.7  0.   1.   0.   0.   0.   0.   0. ]\n",
      " [41.1  0.   1.   1.   0.   1.   0.   1. ]\n",
      " [40.8  0.   1.   1.   0.   1.   0.   1. ]\n",
      " [40.   1.   1.   1.   1.   0.   1.   1. ]\n",
      " [37.1  0.   1.   0.   0.   0.   0.   0. ]\n",
      " [40.   0.   0.   0.   0.   0.   0.   0. ]\n",
      " [40.1  1.   1.   1.   1.   0.   1.   1. ]\n",
      " [36.9  0.   0.   1.   1.   1.   1.   0. ]\n",
      " [38.   0.   1.   1.   0.   1.   0.   1. ]\n",
      " [40.7  1.   1.   0.   1.   0.   0.   1. ]\n",
      " [37.   0.   0.   1.   1.   0.   1.   0. ]\n",
      " [37.3  0.   0.   1.   1.   1.   1.   0. ]\n",
      " [40.   1.   1.   1.   1.   1.   1.   1. ]\n",
      " [37.5  0.   0.   1.   1.   1.   1.   0. ]\n",
      " [40.7  0.   0.   0.   0.   0.   0.   0. ]\n",
      " [40.2  0.   0.   0.   0.   0.   0.   0. ]\n",
      " [37.9  0.   0.   1.   1.   1.   1.   0. ]\n",
      " [38.   0.   1.   1.   0.   1.   0.   1. ]\n",
      " [37.4  0.   0.   1.   0.   0.   1.   0. ]\n",
      " [40.4  1.   1.   0.   1.   0.   0.   1. ]\n",
      " [37.5  0.   0.   1.   0.   0.   1.   0. ]\n",
      " [37.2  0.   0.   1.   0.   0.   1.   0. ]\n",
      " [37.9  0.   0.   1.   1.   0.   1.   0. ]\n",
      " [37.7  0.   0.   1.   1.   0.   1.   0. ]\n",
      " [41.2  0.   0.   0.   0.   0.   0.   0. ]\n",
      " [37.9  0.   1.   0.   0.   0.   0.   0. ]\n",
      " [36.6  0.   1.   0.   0.   0.   0.   0. ]\n",
      " [37.   0.   0.   1.   1.   0.   1.   0. ]\n",
      " [41.   0.   0.   0.   0.   0.   0.   0. ]\n",
      " [41.2  1.   1.   1.   1.   1.   1.   1. ]\n",
      " [37.5  0.   1.   0.   0.   0.   0.   0. ]\n",
      " [37.7  0.   0.   1.   1.   0.   1.   0. ]\n",
      " [37.3  0.   1.   0.   0.   0.   0.   0. ]\n",
      " [35.9  0.   1.   0.   0.   0.   0.   0. ]\n",
      " [41.   0.   1.   1.   0.   1.   0.   1. ]\n",
      " [41.5  0.   1.   1.   0.   1.   0.   1. ]\n",
      " [41.5  1.   1.   0.   1.   0.   0.   1. ]\n",
      " [37.3  0.   0.   1.   0.   0.   1.   0. ]\n",
      " [37.5  0.   0.   1.   1.   0.   1.   0. ]\n",
      " [41.1  1.   1.   1.   1.   1.   1.   1. ]\n",
      " [37.1  0.   0.   1.   0.   0.   1.   0. ]\n",
      " [40.   0.   0.   0.   0.   0.   0.   0. ]\n",
      " [41.1  1.   1.   0.   1.   0.   0.   1. ]\n",
      " [40.7  1.   1.   1.   1.   1.   1.   1. ]\n",
      " [37.   0.   1.   0.   0.   0.   0.   0. ]\n",
      " [40.3  0.   1.   1.   0.   1.   0.   1. ]\n",
      " [36.2  0.   1.   0.   0.   0.   0.   0. ]\n",
      " [37.7  0.   1.   0.   0.   0.   0.   0. ]\n",
      " [40.9  0.   1.   1.   0.   1.   0.   1. ]\n",
      " [39.   0.   1.   1.   0.   1.   0.   1. ]\n",
      " [40.7  1.   1.   1.   1.   0.   1.   1. ]\n",
      " [37.6  0.   0.   1.   1.   1.   1.   0. ]\n",
      " [36.6  0.   1.   0.   0.   0.   0.   0. ]\n",
      " [40.4  1.   1.   1.   1.   0.   1.   1. ]\n",
      " [36.   0.   0.   1.   1.   1.   1.   0. ]\n",
      " [37.   0.   0.   1.   0.   0.   1.   0. ]\n",
      " [36.6  0.   0.   1.   1.   1.   1.   0. ]\n",
      " [37.4  0.   1.   0.   0.   0.   0.   0. ]\n",
      " [35.9  0.   0.   1.   1.   1.   1.   0. ]\n",
      " [38.9  0.   1.   1.   0.   1.   0.   1. ]\n",
      " [36.7  0.   0.   1.   1.   1.   1.   0. ]\n",
      " [38.3  0.   1.   1.   0.   1.   0.   1. ]\n",
      " [38.7  0.   1.   1.   0.   1.   0.   1. ]\n",
      " [40.9  1.   1.   1.   1.   0.   1.   1. ]\n",
      " [37.   0.   0.   1.   1.   1.   1.   0. ]\n",
      " [41.2  0.   1.   1.   0.   1.   0.   1. ]\n",
      " [37.5  0.   0.   1.   0.   0.   1.   0. ]\n",
      " [41.   1.   1.   0.   1.   0.   0.   1. ]\n",
      " [40.6  1.   1.   0.   1.   0.   0.   1. ]\n",
      " [36.3  0.   0.   1.   1.   1.   1.   0. ]\n",
      " [38.1  0.   1.   1.   0.   1.   0.   1. ]\n",
      " [37.8  0.   0.   1.   0.   0.   1.   0. ]\n",
      " [39.7  0.   1.   1.   0.   1.   0.   1. ]\n",
      " [37.2  0.   1.   0.   0.   0.   0.   0. ]\n",
      " [37.   0.   0.   1.   1.   1.   1.   0. ]\n",
      " [36.8  0.   0.   1.   1.   1.   1.   0. ]\n",
      " [41.4  0.   1.   1.   0.   1.   0.   1. ]\n",
      " [36.7  0.   1.   0.   0.   0.   0.   0. ]\n",
      " [37.9  0.   0.   1.   0.   0.   1.   0. ]]\n"
     ]
    }
   ],
   "source": [
    "print_dataset('Train', train_data)"
   ]
  },
  {
   "cell_type": "markdown",
   "metadata": {},
   "source": [
    "We print the testing dataset. It has 24 samples (24 rows), and 6 features and 2 diagnoses (8 columns)."
   ]
  },
  {
   "cell_type": "code",
   "execution_count": 6,
   "metadata": {},
   "outputs": [
    {
     "name": "stdout",
     "output_type": "stream",
     "text": [
      "Dataset Test. Shape: (24, 8)\n",
      "[[41.   1.   1.   1.   1.   1.   1.   1. ]\n",
      " [37.2  0.   0.   1.   1.   0.   1.   0. ]\n",
      " [41.2  1.   1.   0.   1.   0.   0.   1. ]\n",
      " [41.5  0.   1.   1.   0.   1.   0.   1. ]\n",
      " [37.9  0.   0.   1.   1.   0.   1.   0. ]\n",
      " [40.9  1.   1.   1.   1.   0.   1.   1. ]\n",
      " [37.   0.   0.   1.   1.   1.   1.   0. ]\n",
      " [40.   1.   1.   0.   1.   0.   0.   1. ]\n",
      " [37.   0.   0.   1.   1.   1.   1.   0. ]\n",
      " [41.3  1.   1.   1.   1.   0.   1.   1. ]\n",
      " [38.5  0.   1.   1.   0.   1.   0.   1. ]\n",
      " [37.7  0.   0.   1.   0.   0.   1.   0. ]\n",
      " [41.1  0.   0.   0.   0.   0.   0.   0. ]\n",
      " [40.4  1.   1.   1.   1.   0.   1.   1. ]\n",
      " [40.   0.   1.   1.   0.   1.   0.   1. ]\n",
      " [40.4  1.   1.   1.   1.   1.   1.   1. ]\n",
      " [37.1  0.   0.   1.   1.   1.   1.   0. ]\n",
      " [36.2  0.   0.   1.   1.   1.   1.   0. ]\n",
      " [40.2  1.   1.   1.   1.   1.   1.   1. ]\n",
      " [36.   0.   1.   0.   0.   0.   0.   0. ]\n",
      " [37.5  0.   1.   0.   0.   0.   0.   0. ]\n",
      " [37.6  0.   0.   1.   1.   0.   1.   0. ]\n",
      " [40.   1.   1.   0.   1.   0.   0.   1. ]\n",
      " [40.6  0.   0.   0.   0.   0.   0.   0. ]]\n"
     ]
    }
   ],
   "source": [
    "print_dataset('Test', test_data)"
   ]
  },
  {
   "cell_type": "markdown",
   "metadata": {},
   "source": [
    "We define our machine learning model, which is a logistic regression model. Why? Because this medical dataset is linearly separable, which simplifies things a lot."
   ]
  },
  {
   "cell_type": "code",
   "execution_count": 7,
   "metadata": {},
   "outputs": [],
   "source": [
    "import torch\n",
    "from torch.autograd import Variable\n",
    "import torch.nn as nn\n",
    "import torch.nn.functional as F\n",
    "\n",
    "input_size = 6\n",
    "learning_rate = 0.01\n",
    "num_iterations = 20000\n",
    "\n",
    "class LogisticRegression(torch.nn.Module):\n",
    "\n",
    "    def __init__(self):\n",
    "        super(LogisticRegression, self).__init__()\n",
    "        self.linear = torch.nn.Linear(input_size, 1)\n",
    "\n",
    "    def forward(self, x):\n",
    "        return torch.sigmoid(self.linear(x))\n"
   ]
  },
  {
   "cell_type": "markdown",
   "metadata": {},
   "source": [
    "We define some functions to train the machine learning model while keeping track of the training loss and the training accuracy."
   ]
  },
  {
   "cell_type": "code",
   "execution_count": 8,
   "metadata": {},
   "outputs": [],
   "source": [
    "def decide(y):\n",
    "    return 1. if y >= 0.5 else 0.\n",
    "\n",
    "decide_vectorized = np.vectorize(decide)\n",
    "\n",
    "to_percent = lambda x: '{:.2f}%'.format(x)\n",
    "\n",
    "def compute_accuracy(model, input, output):\n",
    "    prediction = model(input).data.numpy()[:, 0]\n",
    "    n_samples = prediction.shape[0] + 0.\n",
    "    prediction = decide_vectorized(prediction)\n",
    "    equal = prediction == output.data.numpy()\n",
    "    return 100. * equal.sum() / n_samples\n",
    "\n",
    "def get_input_and_output(data):\n",
    "    input_data = Variable(torch.tensor(data[:, :6], dtype = torch.float32))\n",
    "    output1 = Variable(torch.tensor(data[:, 6], dtype = torch.float32))\n",
    "    output2 = Variable(torch.tensor(data[:, 7], dtype = torch.float32))\n",
    "    return input_data, output1, output2\n",
    "\n",
    "input_data, output1, output2 = get_input_and_output(train_data)\n",
    "test_input, test_output1, test_output2 = get_input_and_output(test_data)\n",
    "\n",
    "import matplotlib.pyplot as plt\n",
    "%matplotlib inline\n",
    "\n",
    "diagnosis_title1 = 'Inflammation of Urinary Bladder'\n",
    "diagnosis_title2 = 'Nephritis of Renal Pelvis Origin'\n",
    "\n",
    "def plot_graphs(diagnosis_title, losses, accuracies):\n",
    "    plt.plot(losses)\n",
    "    plt.title(f\"{diagnosis_title} - Training Loss\")\n",
    "    plt.xlabel(\"Iterations\")\n",
    "    plt.ylabel(\"Training Loss\")\n",
    "    plt.show()\n",
    "    plt.plot(accuracies)\n",
    "    plt.title(f\"{diagnosis_title} - Training Accuracy\")\n",
    "    plt.xlabel(\"Iterations\")\n",
    "    plt.ylabel(\"Training Accuracy (Percent %)\")\n",
    "    plt.show()\n",
    "    \n",
    "def train_model(diagnosis_title, input_data, output, test_input, test_output):\n",
    "    model = LogisticRegression()\n",
    "    criterion = torch.nn.BCELoss(size_average=True)\n",
    "    optimizer = torch.optim.SGD(model.parameters(), lr=learning_rate)  \n",
    "    losses = []\n",
    "    accuracies = []\n",
    "    n_samples, _ = input_data.shape\n",
    "    for iteration in range(num_iterations+1):\n",
    "            optimizer.zero_grad()\n",
    "            prediction = model(input_data)\n",
    "            loss = criterion(prediction, output.unsqueeze(1))\n",
    "            loss.backward()\n",
    "            optimizer.step()\n",
    "            if iteration % 500 == 0:\n",
    "                train_acc = compute_accuracy(model, input_data, output)\n",
    "                train_loss = loss.item()\n",
    "                losses.append(train_loss)\n",
    "                accuracies.append(train_acc)\n",
    "                print('iteration={}, loss={:.4f}, train_acc={}'.format(iteration, train_loss, to_percent(train_acc)))\n",
    "    plot_graphs(diagnosis_title, losses, accuracies)\n",
    "    test_acc = compute_accuracy(model, test_input, test_output)\n",
    "    print('\\nTesting Accuracy = {}'.format(to_percent(test_acc)))\n",
    "    return model\n"
   ]
  },
  {
   "cell_type": "markdown",
   "metadata": {},
   "source": [
    "We actually train the machine learning model to diagnose the **Inflammation of Urinary Bladder**. As you can see in the graphs, the training loss drops quickly to almost zero and the training accuracy reaches the 100%. The testing accuracy is also 100%. Notice that this machine learning system diagnoses this disease in a perfect way; whereas human doctors can commit mistakes."
   ]
  },
  {
   "cell_type": "code",
   "execution_count": 9,
   "metadata": {},
   "outputs": [
    {
     "name": "stdout",
     "output_type": "stream",
     "text": [
      "iteration=0, loss=4.3581, train_acc=72.92%\n",
      "iteration=500, loss=1.5091, train_acc=46.88%\n",
      "iteration=1000, loss=0.9134, train_acc=65.62%\n",
      "iteration=1500, loss=0.3400, train_acc=73.96%\n",
      "iteration=2000, loss=0.1775, train_acc=100.00%\n",
      "iteration=2500, loss=0.1597, train_acc=100.00%\n",
      "iteration=3000, loss=0.1454, train_acc=100.00%\n",
      "iteration=3500, loss=0.1336, train_acc=100.00%\n",
      "iteration=4000, loss=0.1237, train_acc=100.00%\n",
      "iteration=4500, loss=0.1152, train_acc=100.00%\n",
      "iteration=5000, loss=0.1079, train_acc=100.00%\n",
      "iteration=5500, loss=0.1015, train_acc=100.00%\n",
      "iteration=6000, loss=0.0958, train_acc=100.00%\n",
      "iteration=6500, loss=0.0908, train_acc=100.00%\n",
      "iteration=7000, loss=0.0862, train_acc=100.00%\n",
      "iteration=7500, loss=0.0822, train_acc=100.00%\n",
      "iteration=8000, loss=0.0785, train_acc=100.00%\n",
      "iteration=8500, loss=0.0751, train_acc=100.00%\n",
      "iteration=9000, loss=0.0720, train_acc=100.00%\n",
      "iteration=9500, loss=0.0692, train_acc=100.00%\n",
      "iteration=10000, loss=0.0665, train_acc=100.00%\n",
      "iteration=10500, loss=0.0641, train_acc=100.00%\n",
      "iteration=11000, loss=0.0619, train_acc=100.00%\n",
      "iteration=11500, loss=0.0598, train_acc=100.00%\n",
      "iteration=12000, loss=0.0578, train_acc=100.00%\n",
      "iteration=12500, loss=0.0560, train_acc=100.00%\n",
      "iteration=13000, loss=0.0543, train_acc=100.00%\n",
      "iteration=13500, loss=0.0527, train_acc=100.00%\n",
      "iteration=14000, loss=0.0511, train_acc=100.00%\n",
      "iteration=14500, loss=0.0497, train_acc=100.00%\n",
      "iteration=15000, loss=0.0484, train_acc=100.00%\n",
      "iteration=15500, loss=0.0471, train_acc=100.00%\n",
      "iteration=16000, loss=0.0459, train_acc=100.00%\n",
      "iteration=16500, loss=0.0447, train_acc=100.00%\n",
      "iteration=17000, loss=0.0436, train_acc=100.00%\n",
      "iteration=17500, loss=0.0426, train_acc=100.00%\n",
      "iteration=18000, loss=0.0416, train_acc=100.00%\n",
      "iteration=18500, loss=0.0407, train_acc=100.00%\n",
      "iteration=19000, loss=0.0398, train_acc=100.00%\n",
      "iteration=19500, loss=0.0389, train_acc=100.00%\n",
      "iteration=20000, loss=0.0381, train_acc=100.00%\n"
     ]
    },
    {
     "data": {
      "image/png": "[encoded data removed]",
      "text/plain": [
       "<Figure size 432x288 with 1 Axes>"
      ]
     },
     "metadata": {
      "needs_background": "light"
     },
     "output_type": "display_data"
    },
    {
     "data": {
      "image/png": "[encoded data removed]",
      "text/plain": [
       "<Figure size 432x288 with 1 Axes>"
      ]
     },
     "metadata": {
      "needs_background": "light"
     },
     "output_type": "display_data"
    },
    {
     "name": "stdout",
     "output_type": "stream",
     "text": [
      "\n",
      "Testing Accuracy = 100.00%\n"
     ]
    }
   ],
   "source": [
    "import warnings\n",
    "warnings.filterwarnings(\"ignore\")\n",
    "\n",
    "model = train_model(diagnosis_title1, input_data, output1, test_input, test_output1)"
   ]
  },
  {
   "cell_type": "markdown",
   "metadata": {},
   "source": [
    "We actually train the machine learning model to diagnose the **Nephritis of Renal Pelvis Origin**. As you can see in the graphs, the training loss drops quickly to almost zero and the training accuracy reaches the 100%. The testing accuracy is also 100%. Notice that this machine learning system diagnoses this disease in a perfect way; whereas human doctors can commit mistakes."
   ]
  },
  {
   "cell_type": "code",
   "execution_count": 10,
   "metadata": {},
   "outputs": [
    {
     "name": "stdout",
     "output_type": "stream",
     "text": [
      "iteration=0, loss=4.5408, train_acc=60.42%\n",
      "iteration=500, loss=0.9110, train_acc=60.42%\n",
      "iteration=1000, loss=0.8111, train_acc=60.42%\n",
      "iteration=1500, loss=0.7094, train_acc=60.42%\n",
      "iteration=2000, loss=0.5290, train_acc=66.67%\n",
      "iteration=2500, loss=0.2639, train_acc=81.25%\n",
      "iteration=3000, loss=0.1873, train_acc=100.00%\n",
      "iteration=3500, loss=0.1743, train_acc=100.00%\n",
      "iteration=4000, loss=0.1631, train_acc=100.00%\n",
      "iteration=4500, loss=0.1533, train_acc=100.00%\n",
      "iteration=5000, loss=0.1447, train_acc=100.00%\n",
      "iteration=5500, loss=0.1371, train_acc=100.00%\n",
      "iteration=6000, loss=0.1302, train_acc=100.00%\n",
      "iteration=6500, loss=0.1241, train_acc=100.00%\n",
      "iteration=7000, loss=0.1185, train_acc=100.00%\n",
      "iteration=7500, loss=0.1134, train_acc=100.00%\n",
      "iteration=8000, loss=0.1087, train_acc=100.00%\n",
      "iteration=8500, loss=0.1044, train_acc=100.00%\n",
      "iteration=9000, loss=0.1005, train_acc=100.00%\n",
      "iteration=9500, loss=0.0968, train_acc=100.00%\n",
      "iteration=10000, loss=0.0934, train_acc=100.00%\n",
      "iteration=10500, loss=0.0903, train_acc=100.00%\n",
      "iteration=11000, loss=0.0873, train_acc=100.00%\n",
      "iteration=11500, loss=0.0845, train_acc=100.00%\n",
      "iteration=12000, loss=0.0819, train_acc=100.00%\n",
      "iteration=12500, loss=0.0795, train_acc=100.00%\n",
      "iteration=13000, loss=0.0772, train_acc=100.00%\n",
      "iteration=13500, loss=0.0751, train_acc=100.00%\n",
      "iteration=14000, loss=0.0730, train_acc=100.00%\n",
      "iteration=14500, loss=0.0711, train_acc=100.00%\n",
      "iteration=15000, loss=0.0692, train_acc=100.00%\n",
      "iteration=15500, loss=0.0675, train_acc=100.00%\n",
      "iteration=16000, loss=0.0658, train_acc=100.00%\n",
      "iteration=16500, loss=0.0642, train_acc=100.00%\n",
      "iteration=17000, loss=0.0627, train_acc=100.00%\n",
      "iteration=17500, loss=0.0613, train_acc=100.00%\n",
      "iteration=18000, loss=0.0599, train_acc=100.00%\n",
      "iteration=18500, loss=0.0586, train_acc=100.00%\n",
      "iteration=19000, loss=0.0574, train_acc=100.00%\n",
      "iteration=19500, loss=0.0562, train_acc=100.00%\n",
      "iteration=20000, loss=0.0550, train_acc=100.00%\n"
     ]
    },
    {
     "data": {
      "image/png": "[encoded data removed]",
      "text/plain": [
       "<Figure size 432x288 with 1 Axes>"
      ]
     },
     "metadata": {
      "needs_background": "light"
     },
     "output_type": "display_data"
    },
    {
     "data": {
      "image/png": "[encoded data removed]",
      "text/plain": [
       "<Figure size 432x288 with 1 Axes>"
      ]
     },
     "metadata": {
      "needs_background": "light"
     },
     "output_type": "display_data"
    },
    {
     "name": "stdout",
     "output_type": "stream",
     "text": [
      "\n",
      "Testing Accuracy = 100.00%\n"
     ]
    }
   ],
   "source": [
    "model = train_model(diagnosis_title2, input_data, output2, test_input, test_output2)"
   ]
  },
  {
   "cell_type": "markdown",
   "metadata": {},
   "source": [
    "So far, we have used machine learning in an insecure way. Now, let's implement the techniques of Federated Learning, by sending data to individual computers (hospitals) and then only collecting weights from the distributed computing resources. \n",
    "\n",
    "# FEDERATED LEARNING WITH A TRUSTED AGGREGATOR\n",
    "\n",
    "In this demo, there are 4 hospitals. The dataset will be split in 4, randomly. There could be more hospitals. The 4 hospitals cannot share the cases of their patients because they are competitors and it is necessary to protect the privacy of patients. Hence, the ML model will be learned in a federated way. \n",
    "\n",
    "How? Federated learning is iterated 1000 times. At each iteration, a copy of the shared model is sent to all the 4 hospitals. Each hospital trains its own local model with its own local dataset, in 5 local iterations. Each local model improves a little bit in its own direction. Then we compute the local losses and local accuracies to keep track of them and to make graphs of them. We send the local models to the trusted aggregator that will average all the model updates. This averaged model is the shared model that is sent to all the 4 hospitals at the begining of each iteration.\n",
    "\n",
    "In this way, only the ML model will be shared. Whereas the local cases of each hospital will be kept private and they will be used to train model updates in a local way. Federated learning will protect the privacy of datasets in each hospital and at the same time, we will generate a more robust machine learning model, which will benefit all hospitals. This shared ML model preserves the privacy of individual patients and at the same time, reveals important statistics of stereotypical cases. It will also help individual hospitals to have localized models specializing in cases pertaining to their own hospitals only.\n",
    "\n",
    "<p align=\"center\">\n",
    " <img src=\"./images/federated-learning.png\">\n",
    "</p>\n",
    "<center>\n",
    " Federated Learning - Image taken from <a href=\"https://www.intel.ai/federated-learning-for-medical-imaging/\">https://www.intel.ai/federated-learning-for-medical-imaging/</a>\n",
    "</center>"
   ]
  },
  {
   "cell_type": "markdown",
   "metadata": {},
   "source": [
    "First, we start by creating the virtual workers that simulate the computers of each hospital. And then we establish communications among all of them. "
   ]
  },
  {
   "cell_type": "code",
   "execution_count": 11,
   "metadata": {},
   "outputs": [
    {
     "data": {
      "text/plain": [
       "'1.4.0'"
      ]
     },
     "execution_count": 11,
     "metadata": {},
     "output_type": "execute_result"
    }
   ],
   "source": [
    "torch.__version__"
   ]
  },
  {
   "cell_type": "code",
   "execution_count": 12,
   "metadata": {},
   "outputs": [
    {
     "name": "stderr",
     "output_type": "stream",
     "text": [
      "Worker hospital1 already exists. Replacing old worker which could cause                     unexpected behavior\n",
      "Worker hospital2 already exists. Replacing old worker which could cause                     unexpected behavior\n",
      "Worker hospital3 already exists. Replacing old worker which could cause                     unexpected behavior\n",
      "Worker secure_worker already exists. Replacing old worker which could cause                     unexpected behavior\n",
      "Worker hospital0 already exists. Replacing old worker which could cause                     unexpected behavior\n",
      "Worker hospital2 already exists. Replacing old worker which could cause                     unexpected behavior\n",
      "Worker hospital3 already exists. Replacing old worker which could cause                     unexpected behavior\n",
      "Worker secure_worker already exists. Replacing old worker which could cause                     unexpected behavior\n",
      "Worker hospital0 already exists. Replacing old worker which could cause                     unexpected behavior\n",
      "Worker hospital1 already exists. Replacing old worker which could cause                     unexpected behavior\n",
      "Worker hospital3 already exists. Replacing old worker which could cause                     unexpected behavior\n",
      "Worker secure_worker already exists. Replacing old worker which could cause                     unexpected behavior\n",
      "Worker hospital0 already exists. Replacing old worker which could cause                     unexpected behavior\n",
      "Worker hospital1 already exists. Replacing old worker which could cause                     unexpected behavior\n",
      "Worker hospital2 already exists. Replacing old worker which could cause                     unexpected behavior\n",
      "Worker secure_worker already exists. Replacing old worker which could cause                     unexpected behavior\n",
      "Worker hospital0 already exists. Replacing old worker which could cause                     unexpected behavior\n",
      "Worker hospital1 already exists. Replacing old worker which could cause                     unexpected behavior\n",
      "Worker hospital2 already exists. Replacing old worker which could cause                     unexpected behavior\n",
      "Worker hospital3 already exists. Replacing old worker which could cause                     unexpected behavior\n"
     ]
    },
    {
     "name": "stdout",
     "output_type": "stream",
     "text": [
      "workers of hospital0 = ['hospital1', 'hospital2', 'hospital3', 'secure_worker']\n",
      "workers of hospital1 = ['hospital0', 'hospital2', 'hospital3', 'secure_worker']\n",
      "workers of hospital2 = ['hospital0', 'hospital1', 'hospital3', 'secure_worker']\n",
      "workers of hospital3 = ['hospital0', 'hospital1', 'hospital2', 'secure_worker']\n",
      "workers of secure_worker = ['hospital0', 'hospital1', 'hospital2', 'hospital3']\n"
     ]
    }
   ],
   "source": [
    "import syft as sy\n",
    "import torch as th\n",
    "hook = sy.TorchHook(th)\n",
    "from torch import nn, optim\n",
    "import warnings\n",
    "warnings.filterwarnings(\"ignore\")\n",
    "\n",
    "n_hospitals = 4\n",
    "hospitals = []\n",
    "for i in range(n_hospitals):\n",
    "    hospital_name = 'hospital{}'.format(i)\n",
    "    hospital = sy.VirtualWorker(hook, id = hospital_name)\n",
    "    hospitals.append(hospital)\n",
    "secure_worker = sy.VirtualWorker(hook, id=\"secure_worker\")\n",
    "\n",
    "def get_workers_names(workers):\n",
    "    return [worker.id for worker in workers]\n",
    "\n",
    "def add_and_print_workers(worker, workers):\n",
    "    print('workers of {} = {}'.format(worker.id, get_workers_names(workers)))\n",
    "    worker.add_workers(workers)\n",
    "\n",
    "for i in range(n_hospitals):\n",
    "    workers = [hospitals[i2] for i2 in range(n_hospitals) if i2 != i] + [secure_worker]\n",
    "    add_and_print_workers(hospitals[i], workers)\n",
    "add_and_print_workers(secure_worker, hospitals)"
   ]
  },
  {
   "cell_type": "markdown",
   "metadata": {},
   "source": [
    "Each virtual worker in each hospital is supposed to have some cases of patients, their own local datasets. The 4 hospitals cannot share the cases of their patients because they are competitors and it is necessary to protect the privacy of patients. So, the local cases of each hospital will be kept private and they will be used to train model updates in a local way.\n",
    "\n",
    "In order to simulate this process, we start by dividing the dataset in 4 parts, randomly. And then we send each part to each hospital. Each part is composed of the features, the diagnosis for disease 1, and the diagnosis for disease 2."
   ]
  },
  {
   "cell_type": "code",
   "execution_count": 13,
   "metadata": {},
   "outputs": [
    {
     "name": "stdout",
     "output_type": "stream",
     "text": [
      "LogisticRegression(\n",
      "  (linear): Linear(in_features=6, out_features=1, bias=True)\n",
      ")\n"
     ]
    }
   ],
   "source": [
    "n_samples = train_data.shape[0]\n",
    "samples_per_hospital = int((n_samples + 0.5) / n_hospitals)\n",
    "hospital_features = []\n",
    "hospital_targets1 = []\n",
    "hospital_targets2 = []\n",
    "train_data = th.tensor(train_data, dtype = torch.float32, requires_grad=True)\n",
    "for i in range(n_hospitals):\n",
    "    train_data2 = train_data[i * samples_per_hospital:(i + 1) * samples_per_hospital].clone().detach().requires_grad_(True)\n",
    "    features = train_data2[:, :6].clone().detach().requires_grad_(True)\n",
    "    targets1 = train_data2[:, 6][:, None].clone().detach() \n",
    "    targets2 = train_data2[:, 7][:, None].clone().detach() \n",
    "    hospital_features.append(features.send(hospitals[i]))\n",
    "    hospital_targets1.append(targets1.send(hospitals[i]))\n",
    "    hospital_targets2.append(targets2.send(hospitals[i]))\n",
    "\n",
    "print(model)"
   ]
  },
  {
   "cell_type": "markdown",
   "metadata": {},
   "source": [
    "We define some functions to train the machine learning model in a federated way while keeping track of the training loss and the training accuracy, for each hospital separately.\n",
    "\n",
    "The whole process is done in a trusted aggregator, in 1000 iterations. (We can vary the number of iterations.) At each iteration, a copy of the shared model is sent to all the 4 hospitals. Each hospital trains its own local model with its own local dataset, in 5 local iterations. (We can vary the number of local iterations.) Each local model improves a little bit in its own direction. Then we compute the local losses and local accuracies to keep track of them. So, we will able to create graphs of the learning curves: **Training Losses versus Iterations** and **Training Accuracies versus Iterations**. We send the local models to the trusted aggregator that will average all the model updates. This averaged model is the shared model that is sent to all the 4 hospitals at the begining of each iteration.\n",
    "\n",
    "Finally, we compute the testing accuracy of the final model with the testing dataset we separated since the beginning."
   ]
  },
  {
   "cell_type": "code",
   "execution_count": 16,
   "metadata": {},
   "outputs": [],
   "source": [
    "def plot_federated_graphs(diagnosis_title, losses, accuracies):\n",
    "    for i in range(n_hospitals):\n",
    "        plt.plot(losses[i], label=f'Hospital {i}')\n",
    "    legend = plt.legend(loc='upper right', shadow=True)\n",
    "    plt.title(f\"{diagnosis_title} - Training Loss\")\n",
    "    plt.xlabel(\"Iterations\")\n",
    "    plt.ylabel(\"Training Loss\")\n",
    "    plt.show()\n",
    "    for i in range(n_hospitals):\n",
    "        plt.plot(accuracies[i], label=f'Hospital {i}')\n",
    "    legend = plt.legend(loc='lower right', shadow=True)\n",
    "    plt.title(f\"{diagnosis_title} - Training Accuracy\")\n",
    "    plt.xlabel(\"Iterations\")\n",
    "    plt.ylabel(\"Training Accuracy (Percent %)\")\n",
    "    plt.show()\n",
    "    \n",
    "def compute_federated_accuracy(model, input, output):\n",
    "    prediction = model(input)\n",
    "    n_samples = prediction.shape[0]\n",
    "    s = 0.\n",
    "    for i in range(n_samples):\n",
    "        p = 1. if prediction[i] >= 0.5 else 0.\n",
    "        e = 1. if p == output[i] else 0.\n",
    "        s += e\n",
    "    return 100. * s / n_samples\n",
    "\n",
    "iterations = 1001 #2000\n",
    "worker_iterations = 5\n",
    "\n",
    "def federated_learning(diagnosis_title, hospital_features, hospital_targets, test_input, test_output):\n",
    "    model = LogisticRegression()\n",
    "    criterion = torch.nn.BCELoss(size_average=True)\n",
    "    optimizer = torch.optim.SGD(model.parameters(), lr=learning_rate)  \n",
    "    losses = [[] for i in range(n_hospitals)]\n",
    "    accuracies = [[] for i in range(n_hospitals)]\n",
    "    for iteration in range(iterations):\n",
    "        models = [model.copy().send(hospitals[i]) for i in range(n_hospitals)]\n",
    "        optimizers = [torch.optim.SGD(params = models[i].parameters(), lr = learning_rate) for i in range(n_hospitals)]\n",
    "        for worker_iteration in range(worker_iterations):\n",
    "            last_losses = []\n",
    "            for i in range(n_hospitals):\n",
    "                optimizers[i].zero_grad()\n",
    "                prediction = models[i](hospital_features[i])\n",
    "                loss = criterion(prediction, hospital_targets[i])\n",
    "                loss.backward()\n",
    "                optimizers[i].step()\n",
    "                loss = loss.get().data.item()\n",
    "                last_losses.append(loss)\n",
    "        for i in range(n_hospitals):\n",
    "            losses[i].append(last_losses[i])\n",
    "            train_acc = compute_federated_accuracy(models[i], hospital_features[i], hospital_targets[i])\n",
    "            accuracies[i].append(train_acc)\n",
    "            models[i].move(secure_worker)\n",
    "        with th.no_grad():\n",
    "            avg_weight = sum([models[i].linear.weight.data for i in range(n_hospitals)]) / n_hospitals\n",
    "            model.linear.weight.set_(avg_weight.get())\n",
    "            avg_bias = sum([models[i].linear.bias.data for i in range(n_hospitals)]) / n_hospitals\n",
    "            model.linear.bias.set_(avg_bias.get())\n",
    "        if iteration % 100 == 0:\n",
    "            losses_str = ['{:.4f}'.format(losses[i][-1]) for i in range(n_hospitals)]\n",
    "            accuracies_str = [to_percent(accuracies[i][-1]) for i in range(n_hospitals)]\n",
    "            print('Iteration={}, losses={}, accuracies={}'.format(iteration, losses_str, accuracies_str))\n",
    "    plot_federated_graphs(diagnosis_title, losses, accuracies)\n",
    "    test_acc = compute_accuracy(model, test_input, test_output)\n",
    "    print('\\nTesting Accuracy = {}'.format(to_percent(test_acc)))\n",
    "    return model"
   ]
  },
  {
   "cell_type": "markdown",
   "metadata": {},
   "source": [
    "We actually train the machine learning model to diagnose the **Inflammation of Urinary Bladder**, in a federated way. As you can see in the graphs, the training losses of each hospital drop quickly to almost zero and the training accuracies of each hospital reach the 100%. The testing accuracy is also 100%. Notice that this machine learning system diagnoses this disease in a perfect way; whereas human doctors can commit mistakes."
   ]
  },
  {
   "cell_type": "code",
   "execution_count": 17,
   "metadata": {},
   "outputs": [
    {
     "name": "stdout",
     "output_type": "stream",
     "text": [
      "Iteration=0, losses=['1.5363', '2.0419', '1.2903', '1.7115'], accuracies=['58.33%', '45.83%', '58.33%', '50.00%']\n",
      "Iteration=100, losses=['1.0145', '1.6378', '1.0617', '1.3232'], accuracies=['58.33%', '45.83%', '58.33%', '50.00%']\n",
      "Iteration=200, losses=['0.6908', '1.0657', '0.7335', '0.9777'], accuracies=['58.33%', '45.83%', '58.33%', '50.00%']\n",
      "Iteration=300, losses=['0.2800', '0.3695', '0.4055', '0.5140'], accuracies=['75.00%', '79.17%', '75.00%', '79.17%']\n",
      "Iteration=400, losses=['0.1504', '0.1947', '0.1894', '0.2236'], accuracies=['100.00%', '100.00%', '100.00%', '100.00%']\n",
      "Iteration=500, losses=['0.1372', '0.1740', '0.1704', '0.1993'], accuracies=['100.00%', '100.00%', '100.00%', '100.00%']\n",
      "Iteration=600, losses=['0.1263', '0.1576', '0.1551', '0.1798'], accuracies=['100.00%', '100.00%', '100.00%', '100.00%']\n",
      "Iteration=700, losses=['0.1170', '0.1443', '0.1425', '0.1638'], accuracies=['100.00%', '100.00%', '100.00%', '100.00%']\n",
      "Iteration=800, losses=['0.1090', '0.1331', '0.1318', '0.1505'], accuracies=['100.00%', '100.00%', '100.00%', '100.00%']\n",
      "Iteration=900, losses=['0.1020', '0.1237', '0.1227', '0.1392'], accuracies=['100.00%', '100.00%', '100.00%', '100.00%']\n",
      "Iteration=1000, losses=['0.0958', '0.1156', '0.1149', '0.1295'], accuracies=['100.00%', '100.00%', '100.00%', '100.00%']\n"
     ]
    },
    {
     "data": {
      "image/png": "[encoded data removed]",
      "text/plain": [
       "<Figure size 432x288 with 1 Axes>"
      ]
     },
     "metadata": {
      "needs_background": "light"
     },
     "output_type": "display_data"
    },
    {
     "data": {
      "image/png": "[encoded data removed]",
      "text/plain": [
       "<Figure size 432x288 with 1 Axes>"
      ]
     },
     "metadata": {
      "needs_background": "light"
     },
     "output_type": "display_data"
    },
    {
     "name": "stdout",
     "output_type": "stream",
     "text": [
      "\n",
      "Testing Accuracy = 100.00%\n"
     ]
    }
   ],
   "source": [
    "model = federated_learning(diagnosis_title1, hospital_features, hospital_targets1, test_input, test_output1)"
   ]
  },
  {
   "cell_type": "markdown",
   "metadata": {},
   "source": [
    "We actually train the machine learning model to diagnose the **Nephritis of Renal Pelvis Origin**, in a federated way. As you can see in the graphs, the training losses of each hospital drop quickly to almost zero and the training accuracies of each hospital reach the 100%. The testing accuracy is also 100%. Notice that this machine learning system diagnoses this disease in a perfect way; whereas human doctors can commit mistakes."
   ]
  },
  {
   "cell_type": "code",
   "execution_count": 19,
   "metadata": {
    "scrolled": false
   },
   "outputs": [
    {
     "name": "stdout",
     "output_type": "stream",
     "text": [
      "Iteration=0, losses=['2.1463', '0.8091', '2.0833', '1.8675'], accuracies=['45.83%', '25.00%', '45.83%', '41.67%']\n",
      "Iteration=100, losses=['1.8881', '0.7358', '1.8390', '1.6967'], accuracies=['45.83%', '87.50%', '45.83%', '41.67%']\n",
      "Iteration=200, losses=['1.5606', '0.5329', '1.5537', '1.4977'], accuracies=['45.83%', '91.67%', '45.83%', '41.67%']\n",
      "Iteration=300, losses=['1.1896', '0.2545', '1.2497', '1.2951'], accuracies=['45.83%', '100.00%', '45.83%', '41.67%']\n",
      "Iteration=400, losses=['0.8025', '0.1748', '0.9459', '1.1038'], accuracies=['58.33%', '100.00%', '50.00%', '41.67%']\n",
      "Iteration=500, losses=['0.4287', '0.1442', '0.6323', '0.9309'], accuracies=['62.50%', '100.00%', '66.67%', '58.33%']\n",
      "Iteration=600, losses=['0.2254', '0.1267', '0.3360', '0.6573'], accuracies=['100.00%', '100.00%', '70.83%', '58.33%']\n",
      "Iteration=700, losses=['0.1749', '0.1167', '0.1900', '0.2098'], accuracies=['100.00%', '100.00%', '100.00%', '100.00%']\n",
      "Iteration=800, losses=['0.1627', '0.1092', '0.1772', '0.1954'], accuracies=['100.00%', '100.00%', '100.00%', '100.00%']\n",
      "Iteration=900, losses=['0.1523', '0.1027', '0.1663', '0.1831'], accuracies=['100.00%', '100.00%', '100.00%', '100.00%']\n",
      "Iteration=1000, losses=['0.1432', '0.0970', '0.1569', '0.1725'], accuracies=['100.00%', '100.00%', '100.00%', '100.00%']\n"
     ]
    },
    {
     "data": {
      "image/png": "[encoded data removed]",
      "text/plain": [
       "<Figure size 432x288 with 1 Axes>"
      ]
     },
     "metadata": {
      "needs_background": "light"
     },
     "output_type": "display_data"
    },
    {
     "data": {
      "image/png": "[encoded data removed]",
      "text/plain": [
       "<Figure size 432x288 with 1 Axes>"
      ]
     },
     "metadata": {
      "needs_background": "light"
     },
     "output_type": "display_data"
    },
    {
     "name": "stdout",
     "output_type": "stream",
     "text": [
      "\n",
      "Testing Accuracy = 100.00%\n"
     ]
    }
   ],
   "source": [
    "model = federated_learning(diagnosis_title2, hospital_features, hospital_targets2, test_input, test_output2)"
   ]
  },
  {
   "cell_type": "markdown",
   "metadata": {},
   "source": [
    "The learning curves **Training Losses versus Iterations** and **Training Accuracies versus Iterations** have 4 colors for all 4 hospitals. Each graph has 4 curves of different colors: Blue, orange, green, and red. The curves are not lines; they are rather regions. Why? Because each iteration of federated learning is complex: First, 5 local iterations in each virtual worker (each hospital) to train each local model. Each local model improves a little bit in its own direction. Then, the 4 different models are sent to the trusted aggregator that averages them. Finally, the averaged model is sent back to the 4 hospitals. Such averaged model can have lower performance in comparison to the local models, which are more locally adapted to the local datasets. That's why the progress in the learning curves goes back and forth. Moreover, the graph has 1000 iterations. That's why the curves becomes regions. Because the curves go back and forth too often and are quite dense.\n",
    "\n",
    "Hence, the data exists with 4 different hospitals, we send model to each hospital, each hospital trains the model using local data, and only sends back the weights to the trusted aggregator which is like a central server. The central server has no access to any data, yet is able to achieve similar performance, if it had all the data.\n",
    "\n",
    "## Thank You!"
   ]
  },
  {
   "cell_type": "markdown",
   "metadata": {},
   "source": [
    "### Project Members: \n",
    "\n",
    "1. Arghyadeep Das (1711072)\n",
    "2. Dhruv Desai (1711073)"
   ]
  }
 ],
 "metadata": {
  "kernelspec": {
   "display_name": "Python 3",
   "language": "python",
   "name": "python3"
  },
  "language_info": {
   "codemirror_mode": {
    "name": "ipython",
    "version": 3
   },
   "file_extension": ".py",
   "mimetype": "text/x-python",
   "name": "python",
   "nbconvert_exporter": "python",
   "pygments_lexer": "ipython3",
   "version": "3.8.5"
  }
 },
 "nbformat": 4,
 "nbformat_minor": 2
}
